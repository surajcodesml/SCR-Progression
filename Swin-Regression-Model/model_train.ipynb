{
 "cells": [
  {
   "cell_type": "markdown",
   "id": "2190c2b1",
   "metadata": {},
   "source": []
  },
  {
   "cell_type": "code",
   "execution_count": 10,
   "id": "3904ead5",
   "metadata": {},
   "outputs": [
    {
     "name": "stdout",
     "output_type": "stream",
     "text": [
      "2.18.1\n"
     ]
    }
   ],
   "source": [
    "import h5py\n",
    "import numpy as np\n",
    "import tensorflow as tf\n",
    "from transformers import TFSwinModel\n",
    "import datetime\n",
    "from sklearn.model_selection import train_test_split\n",
    "print(tf.__version__)"
   ]
  },
  {
   "cell_type": "code",
   "execution_count": 4,
   "id": "e7665cf3",
   "metadata": {},
   "outputs": [],
   "source": [
    "with h5py.File('/home/suraj/Git/SCR-Progression/Duke_Control_processed.h5', 'r') as f:\n",
    "    images = f['images'][:]  # shape: (N, 224, 224)\n",
    "    layer_maps = f['layer_maps'][:]  # shape: (N, 224, 2) or (N, 224, 3)"
   ]
  },
  {
   "cell_type": "code",
   "execution_count": 6,
   "id": "553008eb",
   "metadata": {},
   "outputs": [
    {
     "data": {
      "text/plain": [
       "((5088, 224, 224), (5088, 224, 3))"
      ]
     },
     "execution_count": 6,
     "metadata": {},
     "output_type": "execute_result"
    }
   ],
   "source": [
    "images.shape, layer_maps.shape"
   ]
  },
  {
   "cell_type": "code",
   "execution_count": 7,
   "id": "3f5bad78",
   "metadata": {},
   "outputs": [],
   "source": [
    "# add another dimension to images for compatibility\n",
    "if images.ndim == 3:\n",
    "    images = np.expand_dims(images, axis=-1)\n",
    "\n",
    "# We only want ILM and BM (first and last columns) for training\n",
    "layer_maps = layer_maps[:, :, [0, 2]]  # if shape is (N, 224, 3)"
   ]
  },
  {
   "cell_type": "code",
   "execution_count": 8,
   "id": "a5a8c0e4",
   "metadata": {},
   "outputs": [
    {
     "data": {
      "text/plain": [
       "((5088, 224, 224, 1), (5088, 224, 2))"
      ]
     },
     "execution_count": 8,
     "metadata": {},
     "output_type": "execute_result"
    }
   ],
   "source": [
    "images.shape, layer_maps.shape"
   ]
  },
  {
   "cell_type": "code",
   "execution_count": 11,
   "id": "03a264d9",
   "metadata": {},
   "outputs": [],
   "source": [
    "images = images[:1000]\n",
    "layer_maps = layer_maps[:1000]"
   ]
  },
  {
   "cell_type": "code",
   "execution_count": 12,
   "id": "e3d4deba",
   "metadata": {},
   "outputs": [],
   "source": [
    "X_train, X_test, y_train, y_test = train_test_split(\n",
    "    images, layer_maps, test_size=0.2, random_state=42\n",
    ")"
   ]
  },
  {
   "cell_type": "code",
   "execution_count": 13,
   "id": "9e6ee3b5",
   "metadata": {},
   "outputs": [],
   "source": [
    "train_dataset = tf.data.Dataset.from_tensor_slices((X_train, y_train)).batch(16).shuffle(100)\n",
    "test_dataset = tf.data.Dataset.from_tensor_slices((X_test, y_test)).batch(16)"
   ]
  },
  {
   "cell_type": "code",
   "execution_count": 18,
   "id": "df0b5092",
   "metadata": {},
   "outputs": [
    {
     "name": "stdout",
     "output_type": "stream",
     "text": [
      "Model created successfully!\n",
      "Input shape: (224, 224, 1)\n",
      "Output shape: (224, 2)\n",
      "Model: \"model\"\n",
      "_________________________________________________________________\n",
      " Layer (type)                Output Shape              Param #   \n",
      "=================================================================\n",
      " input_5 (InputLayer)        [(None, 224, 224, 1)]     0         \n",
      "                                                                 \n",
      " conv2d (Conv2D)             (None, 224, 224, 32)      320       \n",
      "                                                                 \n",
      " max_pooling2d (MaxPooling2  (None, 112, 112, 32)      0         \n",
      " D)                                                              \n",
      "                                                                 \n",
      " conv2d_1 (Conv2D)           (None, 112, 112, 64)      18496     \n",
      "                                                                 \n",
      " max_pooling2d_1 (MaxPoolin  (None, 56, 56, 64)        0         \n",
      " g2D)                                                            \n",
      "                                                                 \n",
      " conv2d_2 (Conv2D)           (None, 56, 56, 128)       73856     \n",
      "                                                                 \n",
      " max_pooling2d_2 (MaxPoolin  (None, 28, 28, 128)       0         \n",
      " g2D)                                                            \n",
      "                                                                 \n",
      " conv2d_3 (Conv2D)           (None, 28, 28, 256)       295168    \n",
      "                                                                 \n",
      " global_average_pooling2d (  (None, 256)               0         \n",
      " GlobalAveragePooling2D)                                         \n",
      "                                                                 \n",
      " dense (Dense)               (None, 512)               131584    \n",
      "                                                                 \n",
      " dropout_96 (Dropout)        (None, 512)               0         \n",
      "                                                                 \n",
      " dense_1 (Dense)             (None, 256)               131328    \n",
      "                                                                 \n",
      "_________________________________________________________________\n",
      " Layer (type)                Output Shape              Param #   \n",
      "=================================================================\n",
      " input_5 (InputLayer)        [(None, 224, 224, 1)]     0         \n",
      "                                                                 \n",
      " conv2d (Conv2D)             (None, 224, 224, 32)      320       \n",
      "                                                                 \n",
      " max_pooling2d (MaxPooling2  (None, 112, 112, 32)      0         \n",
      " D)                                                              \n",
      "                                                                 \n",
      " conv2d_1 (Conv2D)           (None, 112, 112, 64)      18496     \n",
      "                                                                 \n",
      " max_pooling2d_1 (MaxPoolin  (None, 56, 56, 64)        0         \n",
      " g2D)                                                            \n",
      "                                                                 \n",
      " conv2d_2 (Conv2D)           (None, 56, 56, 128)       73856     \n",
      "                                                                 \n",
      " max_pooling2d_2 (MaxPoolin  (None, 28, 28, 128)       0         \n",
      " g2D)                                                            \n",
      "                                                                 \n",
      " conv2d_3 (Conv2D)           (None, 28, 28, 256)       295168    \n",
      "                                                                 \n",
      " global_average_pooling2d (  (None, 256)               0         \n",
      " GlobalAveragePooling2D)                                         \n",
      "                                                                 \n",
      " dense (Dense)               (None, 512)               131584    \n",
      "                                                                 \n",
      " dropout_96 (Dropout)        (None, 512)               0         \n",
      "                                                                 \n",
      " dense_1 (Dense)             (None, 256)               131328    \n",
      "                                                                 \n",
      " dense_2 (Dense)             (None, 448)               115136    \n",
      "                                                                 \n",
      " reshape (Reshape)           (None, 224, 2)            0         \n",
      "                                                                 \n",
      "=================================================================\n",
      "Total params: 765888 (2.92 MB)\n",
      "Trainable params: 765888 (2.92 MB)\n",
      "Non-trainable params: 0 (0.00 Byte)\n",
      "_________________________________________________________________\n",
      " dense_2 (Dense)             (None, 448)               115136    \n",
      "                                                                 \n",
      " reshape (Reshape)           (None, 224, 2)            0         \n",
      "                                                                 \n",
      "=================================================================\n",
      "Total params: 765888 (2.92 MB)\n",
      "Trainable params: 765888 (2.92 MB)\n",
      "Non-trainable params: 0 (0.00 Byte)\n",
      "_________________________________________________________________\n"
     ]
    }
   ],
   "source": [
    "# Create a simple CNN model for layer annotation prediction\n",
    "def create_layer_annotation_model():\n",
    "    input_layer = tf.keras.layers.Input(shape=(224, 224, 1))\n",
    "    \n",
    "    # CNN backbone\n",
    "    x = tf.keras.layers.Conv2D(32, (3, 3), activation='relu', padding='same')(input_layer)\n",
    "    x = tf.keras.layers.MaxPooling2D((2, 2))(x)\n",
    "    \n",
    "    x = tf.keras.layers.Conv2D(64, (3, 3), activation='relu', padding='same')(x)\n",
    "    x = tf.keras.layers.MaxPooling2D((2, 2))(x)\n",
    "    \n",
    "    x = tf.keras.layers.Conv2D(128, (3, 3), activation='relu', padding='same')(x)\n",
    "    x = tf.keras.layers.MaxPooling2D((2, 2))(x)\n",
    "    \n",
    "    x = tf.keras.layers.Conv2D(256, (3, 3), activation='relu', padding='same')(x)\n",
    "    \n",
    "    # Global average pooling to get feature vector\n",
    "    x = tf.keras.layers.GlobalAveragePooling2D()(x)\n",
    "    \n",
    "    # Dense layers for regression\n",
    "    x = tf.keras.layers.Dense(512, activation='relu')(x)\n",
    "    x = tf.keras.layers.Dropout(0.3)(x)\n",
    "    x = tf.keras.layers.Dense(256, activation='relu')(x)\n",
    "    \n",
    "    # Output layer: predict 224 points for 2 layers (ILM and BM)\n",
    "    x = tf.keras.layers.Dense(224 * 2, activation='linear')(x)\n",
    "    output = tf.keras.layers.Reshape((224, 2))(x)\n",
    "    \n",
    "    return tf.keras.Model(inputs=input_layer, outputs=output)\n",
    "\n",
    "# Create and compile model\n",
    "model = create_layer_annotation_model()\n",
    "model.compile(\n",
    "    optimizer=tf.keras.optimizers.Adam(learning_rate=1e-4),\n",
    "    loss=tf.keras.losses.MeanSquaredError(),\n",
    "    metrics=[tf.keras.metrics.MeanAbsoluteError()]\n",
    ")\n",
    "\n",
    "print(\"Model created successfully!\")\n",
    "print(f\"Input shape: (224, 224, 1)\")\n",
    "print(f\"Output shape: (224, 2)\")\n",
    "model.summary()"
   ]
  },
  {
   "cell_type": "code",
   "execution_count": 31,
   "id": "dc85ccf7",
   "metadata": {},
   "outputs": [],
   "source": [
    "# TensorBoard callback\n",
    "log_dir = \"logs/fit/\" + datetime.datetime.now().strftime(\"%Y%m%d-%H%M%S\")\n",
    "tensorboard_callback = tf.keras.callbacks.TensorBoard(log_dir=log_dir, histogram_freq=1)"
   ]
  },
  {
   "cell_type": "code",
   "execution_count": null,
   "id": "26a0d7e3",
   "metadata": {},
   "outputs": [],
   "source": [
    "# Train model\n",
    "model.fit(train_dataset,\n",
    "          validation_data=test_dataset, \n",
    "          epochs=10, \n",
    "          callbacks=[tensorboard_callback])"
   ]
  },
  {
   "cell_type": "code",
   "execution_count": null,
   "id": "32bcdf39",
   "metadata": {},
   "outputs": [],
   "source": [
    "# Evaluate model\n",
    "test_loss = model.evaluate(test_dataset)\n",
    "print(f\"Test MSE: {test_loss}\")"
   ]
  },
  {
   "cell_type": "code",
   "execution_count": null,
   "id": "cd29785c",
   "metadata": {},
   "outputs": [],
   "source": [
    "#To save the model\n",
    "# model.save('CNN_regression_model.h5')\n",
    "\n",
    "#TO load the model later\n",
    "# model = tf.keras.models.load_model('CNN_regression_model.h5')\n",
    "# model.summary()\n"
   ]
  }
 ],
 "metadata": {
  "kernelspec": {
   "display_name": "vision-2",
   "language": "python",
   "name": "python3"
  },
  "language_info": {
   "codemirror_mode": {
    "name": "ipython",
    "version": 3
   },
   "file_extension": ".py",
   "mimetype": "text/x-python",
   "name": "python",
   "nbconvert_exporter": "python",
   "pygments_lexer": "ipython3",
   "version": "3.11.13"
  }
 },
 "nbformat": 4,
 "nbformat_minor": 5
}
