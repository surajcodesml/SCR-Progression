{
 "cells": [
  {
   "cell_type": "markdown",
   "id": "f98f1c23",
   "metadata": {},
   "source": [
    "# Training a Swin transformer model to predict layer annotations"
   ]
  },
  {
   "cell_type": "markdown",
   "id": "85913434",
   "metadata": {},
   "source": [
    "import h5py\n",
    "import numpy as np\n",
    "import tensorflow as tf\n",
    "from transformers import TFSwinModel\n",
    "import datetime\n",
    "from sklearn.model_selection import train_test_split\n",
    "print(tf.__version__)"
   ]
  },
  {
   "cell_type": "code",
   "execution_count": 2,
   "id": "86032f2b",
   "metadata": {},
   "outputs": [
    {
     "name": "stderr",
     "output_type": "stream",
     "text": [
      "2025-07-16 16:42:17.196672: E external/local_xla/xla/stream_executor/cuda/cuda_fft.cc:477] Unable to register cuFFT factory: Attempting to register factory for plugin cuFFT when one has already been registered\n",
      "WARNING: All log messages before absl::InitializeLog() is called are written to STDERR\n",
      "E0000 00:00:1752698537.209644   19734 cuda_dnn.cc:8310] Unable to register cuDNN factory: Attempting to register factory for plugin cuDNN when one has already been registered\n",
      "E0000 00:00:1752698537.214017   19734 cuda_blas.cc:1418] Unable to register cuBLAS factory: Attempting to register factory for plugin cuBLAS when one has already been registered\n",
      "2025-07-16 16:42:17.227286: I tensorflow/core/platform/cpu_feature_guard.cc:210] This TensorFlow binary is optimized to use available CPU instructions in performance-critical operations.\n",
      "To enable the following instructions: SSE4.1 SSE4.2 AVX AVX2 FMA, in other operations, rebuild TensorFlow with the appropriate compiler flags.\n",
      "/home/suraj/anaconda3/envs/vision-2/lib/python3.11/site-packages/tqdm/auto.py:21: TqdmWarning: IProgress not found. Please update jupyter and ipywidgets. See https://ipywidgets.readthedocs.io/en/stable/user_install.html\n",
      "  from .autonotebook import tqdm as notebook_tqdm\n"
     ]
    },
    {
     "name": "stdout",
     "output_type": "stream",
     "text": [
      "2.18.1\n"
     ]
    }
   ],
   "source": [
    "import h5py\n",
    "import numpy as np\n",
    "import tensorflow as tf\n",
    "from transformers import TFSwinModel\n",
    "import datetime\n",
    "from sklearn.model_selection import train_test_split\n",
    "print(tf.__version__)"
   ]
  },
  {
   "cell_type": "code",
   "execution_count": 3,
   "id": "ca2e6ece",
   "metadata": {},
   "outputs": [],
   "source": [
    "with h5py.File('/home/suraj/Git/SCR-Progression/Duke_Control_processed.h5', 'r') as f:\n",
    "    images = f['images'][:]  # shape: (N, 224, 224)\n",
    "    layer_maps = f['layer_maps'][:]  # shape: (N, 224, 2) or (N, 224, 3)"
   ]
  },
  {
   "cell_type": "code",
   "execution_count": 4,
   "id": "679e253f",
   "metadata": {},
   "outputs": [],
   "source": [
    "# add another dimension to images for compatibility\n",
    "if images.ndim == 3:\n",
    "    images = np.expand_dims(images, axis=-1)\n",
    "\n",
    "# We only want ILM and BM (first and last columns) for training\n",
    "layer_maps = layer_maps[:, :, [0, 2]]  # if shape is (N, 224, 3)"
   ]
  },
  {
   "cell_type": "code",
   "execution_count": 5,
   "id": "05255c90",
   "metadata": {},
   "outputs": [],
   "source": [
    "#Testing with only 1000 samples\n",
    "images = images[:1000]\n",
    "layer_maps = layer_maps[:1000]"
   ]
  },
  {
   "cell_type": "code",
   "execution_count": 6,
   "id": "a6efa290",
   "metadata": {},
   "outputs": [],
   "source": [
    "X_train, X_test, y_train, y_test = train_test_split(\n",
    "    images, layer_maps, test_size=0.2, random_state=42\n",
    ")"
   ]
  },
  {
   "cell_type": "code",
   "execution_count": null,
   "id": "1a3ad70b",
   "metadata": {},
   "outputs": [],
   "source": [
    "train_dataset = tf.data.Dataset.from_tensor_slices((X_train, y_train)).batch(16).shuffle(100)\n",
    "test_dataset = tf.data.Dataset.from_tensor_slices((X_test, y_test)).batch(16)"
   ]
  },
  {
   "cell_type": "code",
   "execution_count": null,
   "id": "8a18102b",
   "metadata": {},
   "outputs": [],
   "source": []
  },
  {
   "cell_type": "code",
   "execution_count": null,
   "id": "38f511c2",
   "metadata": {},
   "outputs": [],
   "source": []
  },
  {
   "cell_type": "code",
   "execution_count": null,
   "id": "57316340",
   "metadata": {},
   "outputs": [],
   "source": [
    "# Swin Transformer approach for layer annotation prediction\n",
    "print(\"Setting up Swin Transformer approach...\")\n",
    "\n",
    "def extract_swin_features(images, base_model, batch_size=8):\n",
    "    \"\"\"\n",
    "    Extract features from images using Swin Transformer\n",
    "    \"\"\"\n",
    "    features = []\n",
    "    \n",
    "    for i in range(0, len(images), batch_size):\n",
    "        batch = images[i:i+batch_size]\n",
    "        \n",
    "        # Convert grayscale to RGB (repeat channels)\n",
    "        if batch.shape[-1] == 1:\n",
    "            batch_rgb = np.repeat(batch, 3, axis=-1)\n",
    "        else:\n",
    "            batch_rgb = batch\n",
    "        \n",
    "        # Extract features using Swin\n",
    "        outputs = base_model({\"pixel_values\": batch_rgb})\n",
    "        batch_features = outputs.last_hidden_state.numpy()\n",
    "        features.extend(batch_features)\n",
    "        \n",
    "        if i % 100 == 0:\n",
    "            print(f\"Processed {i}/{len(images)} images\")\n",
    "    \n",
    "    return np.array(features)\n",
    "\n",
    "# Load Swin-Tiny base model for feature extraction\n",
    "swin_model = TFSwinModel.from_pretrained(\"microsoft/swin-tiny-patch4-window7-224\")\n",
    "print(\"Swin model loaded successfully!\")"
   ]
  },
  {
   "cell_type": "code",
   "execution_count": null,
   "id": "9bef1786",
   "metadata": {},
   "outputs": [],
   "source": [
    "# Extract features from your training and test data\n",
    "print(\"Extracting features from training data...\")\n",
    "X_train_features = extract_swin_features(X_train, swin_model, batch_size=8)\n",
    "\n",
    "print(\"Extracting features from test data...\")\n",
    "X_test_features = extract_swin_features(X_test, swin_model, batch_size=8)\n",
    "\n",
    "print(f\"Training features shape: {X_train_features.shape}\")\n",
    "print(f\"Test features shape: {X_test_features.shape}\")\n",
    "print(\"Feature extraction completed!\")"
   ]
  },
  {
   "cell_type": "code",
   "execution_count": null,
   "id": "fcf40401",
   "metadata": {},
   "outputs": [],
   "source": [
    "# Create regression head for Swin features\n",
    "def create_swin_regression_head(feature_shape):\n",
    "    \"\"\"\n",
    "    Create a regression head that takes Swin features and predicts layer coordinates\n",
    "    \"\"\"\n",
    "    input_layer = tf.keras.layers.Input(shape=feature_shape)\n",
    "    \n",
    "    # Global average pooling to reduce sequence dimension\n",
    "    x = tf.keras.layers.GlobalAveragePooling1D()(input_layer)\n",
    "    \n",
    "    # Dense layers for regression\n",
    "    x = tf.keras.layers.Dense(1024, activation='relu')(x)\n",
    "    x = tf.keras.layers.Dropout(0.3)(x)\n",
    "    x = tf.keras.layers.Dense(512, activation='relu')(x)\n",
    "    x = tf.keras.layers.Dropout(0.2)(x)\n",
    "    x = tf.keras.layers.Dense(256, activation='relu')(x)\n",
    "    \n",
    "    # Output layer: predict 224 points for 2 layers (ILM and BM)\n",
    "    x = tf.keras.layers.Dense(224 * 2, activation='linear')(x)\n",
    "    output = tf.keras.layers.Reshape((224, 2))(x)\n",
    "    \n",
    "    return tf.keras.Model(inputs=input_layer, outputs=output)\n",
    "\n",
    "# Create and compile Swin regression model\n",
    "swin_regression_model = create_swin_regression_head(X_train_features.shape[1:])\n",
    "swin_regression_model.compile(\n",
    "    optimizer=tf.keras.optimizers.Adam(learning_rate=1e-4),\n",
    "    loss=tf.keras.losses.MeanSquaredError(),\n",
    "    metrics=[tf.keras.metrics.MeanAbsoluteError()]\n",
    ")\n",
    "\n",
    "print(\"Swin regression model created successfully!\")\n",
    "print(f\"Input feature shape: {X_train_features.shape[1:]}\")\n",
    "print(f\"Output shape: (224, 2)\")\n",
    "swin_regression_model.summary()"
   ]
  },
  {
   "cell_type": "code",
   "execution_count": null,
   "id": "6bff96ba",
   "metadata": {},
   "outputs": [],
   "source": [
    "# Create datasets for Swin features\n",
    "swin_train_dataset = tf.data.Dataset.from_tensor_slices((X_train_features, y_train)).batch(16).shuffle(100)\n",
    "swin_test_dataset = tf.data.Dataset.from_tensor_slices((X_test_features, y_test)).batch(16)\n",
    "\n",
    "# TensorBoard callback for Swin model\n",
    "swin_log_dir = \"logs/swin_fit/\" + datetime.datetime.now().strftime(\"%Y%m%d-%H%M%S\")\n",
    "swin_tensorboard_callback = tf.keras.callbacks.TensorBoard(log_dir=swin_log_dir, histogram_freq=1)\n",
    "\n",
    "print(\"Starting Swin model training...\")\n",
    "# Train Swin regression model\n",
    "swin_history = swin_regression_model.fit(\n",
    "    swin_train_dataset,\n",
    "    validation_data=swin_test_dataset, \n",
    "    epochs=15,  # Slightly more epochs since we have rich features\n",
    "    callbacks=[swin_tensorboard_callback]\n",
    ")"
   ]
  },
  {
   "cell_type": "code",
   "execution_count": null,
   "id": "38b26999",
   "metadata": {},
   "outputs": [],
   "source": [
    "# Evaluate Swin model\n",
    "swin_test_loss = swin_regression_model.evaluate(swin_test_dataset)\n",
    "print(f\"Swin Test MSE: {swin_test_loss[0]:.6f}\")\n",
    "print(f\"Swin Test MAE: {swin_test_loss[1]:.6f}\")\n",
    "\n",
    "# Compare with CNN model performance\n",
    "print(\"\\n=== Model Comparison ===\")\n",
    "print(f\"CNN Test MSE: {test_loss[0]:.6f}\")\n",
    "print(f\"CNN Test MAE: {test_loss[1]:.6f}\")\n",
    "print(f\"Swin Test MSE: {swin_test_loss[0]:.6f}\")  \n",
    "print(f\"Swin Test MAE: {swin_test_loss[1]:.6f}\")\n",
    "\n",
    "# Save Swin model\n",
    "swin_regression_model.save('Swin_regression_model.h5')\n",
    "print(\"Swin model saved as 'Swin_regression_model.h5'\")"
   ]
  },
  {
   "cell_type": "code",
   "execution_count": null,
   "id": "4a0fc188",
   "metadata": {},
   "outputs": [],
   "source": [
    "import matplotlib.pyplot as plt\n",
    "\n",
    "def compare_model_predictions(image_idx=0):\n",
    "    \"\"\"\n",
    "    Compare predictions from CNN and Swin models on a test image\n",
    "    \"\"\"\n",
    "    # Get a test image and ground truth\n",
    "    test_image = X_test[image_idx:image_idx+1]\n",
    "    test_features = X_test_features[image_idx:image_idx+1] \n",
    "    true_layers = y_test[image_idx]\n",
    "    \n",
    "    # Get predictions from both models\n",
    "    cnn_pred = model.predict(test_image)[0]\n",
    "    swin_pred = swin_regression_model.predict(test_features)[0]\n",
    "    \n",
    "    # Create visualization\n",
    "    fig, axes = plt.subplots(1, 3, figsize=(18, 6))\n",
    "    \n",
    "    # Show original image with ground truth\n",
    "    axes[0].imshow(test_image[0, :, :, 0], cmap='gray')\n",
    "    axes[0].plot(range(224), true_layers[:, 0], 'g-', linewidth=2, label='True ILM')\n",
    "    axes[0].plot(range(224), true_layers[:, 1], 'b-', linewidth=2, label='True BM')\n",
    "    axes[0].set_title('Ground Truth')\n",
    "    axes[0].legend()\n",
    "    axes[0].grid(True, alpha=0.3)\n",
    "    \n",
    "    # Show CNN predictions\n",
    "    axes[1].imshow(test_image[0, :, :, 0], cmap='gray')\n",
    "    axes[1].plot(range(224), cnn_pred[:, 0], 'r--', linewidth=2, label='CNN ILM')\n",
    "    axes[1].plot(range(224), cnn_pred[:, 1], 'm--', linewidth=2, label='CNN BM')\n",
    "    axes[1].plot(range(224), true_layers[:, 0], 'g-', linewidth=1, alpha=0.7, label='True ILM')\n",
    "    axes[1].plot(range(224), true_layers[:, 1], 'b-', linewidth=1, alpha=0.7, label='True BM')\n",
    "    axes[1].set_title('CNN Predictions')\n",
    "    axes[1].legend()\n",
    "    axes[1].grid(True, alpha=0.3)\n",
    "    \n",
    "    # Show Swin predictions\n",
    "    axes[2].imshow(test_image[0, :, :, 0], cmap='gray')\n",
    "    axes[2].plot(range(224), swin_pred[:, 0], 'r--', linewidth=2, label='Swin ILM')\n",
    "    axes[2].plot(range(224), swin_pred[:, 1], 'm--', linewidth=2, label='Swin BM')\n",
    "    axes[2].plot(range(224), true_layers[:, 0], 'g-', linewidth=1, alpha=0.7, label='True ILM')\n",
    "    axes[2].plot(range(224), true_layers[:, 1], 'b-', linewidth=1, alpha=0.7, label='True BM')\n",
    "    axes[2].set_title('Swin Predictions')\n",
    "    axes[2].legend()\n",
    "    axes[2].grid(True, alpha=0.3)\n",
    "    \n",
    "    plt.tight_layout()\n",
    "    plt.show()\n",
    "    \n",
    "    # Calculate and print errors\n",
    "    cnn_mae_ilm = np.mean(np.abs(cnn_pred[:, 0] - true_layers[:, 0]))\n",
    "    cnn_mae_bm = np.mean(np.abs(cnn_pred[:, 1] - true_layers[:, 1]))\n",
    "    swin_mae_ilm = np.mean(np.abs(swin_pred[:, 0] - true_layers[:, 0]))\n",
    "    swin_mae_bm = np.mean(np.abs(swin_pred[:, 1] - true_layers[:, 1]))\n",
    "    \n",
    "    print(f\"\\nSample {image_idx} Error Analysis:\")\n",
    "    print(f\"CNN  - ILM MAE: {cnn_mae_ilm:.4f}, BM MAE: {cnn_mae_bm:.4f}\")\n",
    "    print(f\"Swin - ILM MAE: {swin_mae_ilm:.4f}, BM MAE: {swin_mae_bm:.4f}\")\n",
    "\n",
    "# Compare predictions on a few test samples\n",
    "print(\"Comparing model predictions...\")\n",
    "compare_model_predictions(0)\n",
    "compare_model_predictions(5)\n",
    "compare_model_predictions(10)"
   ]
  },
  {
   "cell_type": "code",
   "execution_count": null,
   "id": "322f7154",
   "metadata": {},
   "outputs": [],
   "source": []
  },
  {
   "cell_type": "code",
   "execution_count": null,
   "id": "baf2b792",
   "metadata": {},
   "outputs": [],
   "source": []
  }
 ],
 "metadata": {
  "kernelspec": {
   "display_name": "vision-2",
   "language": "python",
   "name": "python3"
  },
  "language_info": {
   "codemirror_mode": {
    "name": "ipython",
    "version": 3
   },
   "file_extension": ".py",
   "mimetype": "text/x-python",
   "name": "python",
   "nbconvert_exporter": "python",
   "pygments_lexer": "ipython3",
   "version": "3.11.13"
  }
 },
 "nbformat": 4,
 "nbformat_minor": 5
}
