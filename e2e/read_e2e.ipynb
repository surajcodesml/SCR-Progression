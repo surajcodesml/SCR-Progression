{
 "cells": [
  {
   "cell_type": "markdown",
   "id": "0317d6ba",
   "metadata": {},
   "source": [
    "## Read and vizualize .E2E file dataset using eyepy"
   ]
  },
  {
   "cell_type": "code",
   "execution_count": 3,
   "id": "fe76dfbb",
   "metadata": {},
   "outputs": [],
   "source": [
    "import eyepy as ep\n",
    "import matplotlib.pyplot as plt\n",
    "from eyepy.data import load "
   ]
  },
  {
   "cell_type": "code",
   "execution_count": 4,
   "id": "8ebd7f5f",
   "metadata": {},
   "outputs": [],
   "source": [
    "# Import HEYEX E2E export\n",
    "ev = ep.import_heyex_e2e(\"/home/suraj/Data/ANONYM_OCT-BOTH_EYES_20240424_000.e2e\")"
   ]
  },
  {
   "cell_type": "code",
   "execution_count": null,
   "id": "7c45e6ed",
   "metadata": {},
   "outputs": [],
   "source": [
    "fig, axes = plt.subplots(1, 2, figsize=(14, 7))\n"
   ]
  }
 ],
 "metadata": {
  "kernelspec": {
   "display_name": "vision-2",
   "language": "python",
   "name": "python3"
  },
  "language_info": {
   "codemirror_mode": {
    "name": "ipython",
    "version": 3
   },
   "file_extension": ".py",
   "mimetype": "text/x-python",
   "name": "python",
   "nbconvert_exporter": "python",
   "pygments_lexer": "ipython3",
   "version": "3.11.13"
  }
 },
 "nbformat": 4,
 "nbformat_minor": 5
}
