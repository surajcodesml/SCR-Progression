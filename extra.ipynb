{
 "cells": [
  {
   "cell_type": "code",
   "execution_count": null,
   "id": "f9d95846",
   "metadata": {},
   "outputs": [],
   "source": []
  },
  {
   "cell_type": "code",
   "execution_count": null,
   "id": "051ce321",
   "metadata": {},
   "outputs": [],
   "source": [
    "# Explore different layer annotation attributes\n",
    "print(\"=== Exploring ev.layers ===\")\n",
    "print(f\"Type: {type(ev.layers)}\")\n",
    "if hasattr(ev.layers, 'keys'):\n",
    "    print(f\"Keys: {list(ev.layers.keys())}\")\n",
    "print(f\"Content: {ev.layers}\")\n",
    "print(f\"ILM layer data: {ev.layers['ILM'].data}\")\n",
    "print()\n",
    "\n",
    "print(\"=== Exploring ev._layers ===\")\n",
    "print(f\"Type: {type(ev._layers)}\")\n",
    "print(f\"Length: {len(ev._layers) if hasattr(ev._layers, '__len__') else 'No length'}\")\n",
    "if hasattr(ev._layers, '__iter__') and len(ev._layers) > 0:\n",
    "    print(f\"First item type: {type(ev._layers[0])}\")\n",
    "    print(f\"First item: {ev._layers[0]}\")\n",
    "    if hasattr(ev._layers[0], '__dict__'):\n",
    "        print(f\"First item attributes: {vars(ev._layers[0])}\")\n",
    "print()\n",
    "\n",
    "# Check if there are other layer-related attributes\n",
    "print(\"=== Other potential layer attributes ===\")\n",
    "layer_attrs = [attr for attr in dir(ev) if 'layer' in attr.lower()]\n",
    "print(f\"Layer-related attributes: {layer_attrs}\")\n",
    "\n",
    "# Check annotations\n",
    "annotation_attrs = [attr for attr in dir(ev) if 'annotation' in attr.lower()]\n",
    "print(f\"Annotation-related attributes: {annotation_attrs}\")"
   ]
  }
 ],
 "metadata": {
  "language_info": {
   "name": "python"
  }
 },
 "nbformat": 4,
 "nbformat_minor": 5
}
